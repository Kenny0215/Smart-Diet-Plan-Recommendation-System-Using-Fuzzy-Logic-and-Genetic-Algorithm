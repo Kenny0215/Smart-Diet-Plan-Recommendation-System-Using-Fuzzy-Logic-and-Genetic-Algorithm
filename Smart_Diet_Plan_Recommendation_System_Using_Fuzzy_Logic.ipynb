{
  "nbformat": 4,
  "nbformat_minor": 0,
  "metadata": {
    "colab": {
      "provenance": [],
      "toc_visible": true
    },
    "kernelspec": {
      "name": "python3",
      "display_name": "Python 3"
    },
    "language_info": {
      "name": "python"
    }
  },
  "cells": [
    {
      "cell_type": "markdown",
      "source": [
        "#Smart Diet Plan Recommendation System Using Fuzzy Logic with Genetic Algorithm"
      ],
      "metadata": {
        "id": "UpYaHa-rG9Cy"
      }
    },
    {
      "cell_type": "markdown",
      "source": [
        "##**Data Preprocessing**##"
      ],
      "metadata": {
        "id": "kdxnsbhFHRMV"
      }
    },
    {
      "cell_type": "code",
      "source": [
        "!pip install streamlit"
      ],
      "metadata": {
        "colab": {
          "base_uri": "https://localhost:8080/"
        },
        "id": "T4DrHSWyFdo0",
        "outputId": "bbe263e1-b0f3-4e70-86b9-982a4ba39152"
      },
      "execution_count": null,
      "outputs": [
        {
          "output_type": "stream",
          "name": "stdout",
          "text": [
            "Requirement already satisfied: streamlit in /usr/local/lib/python3.11/dist-packages (1.45.1)\n",
            "Requirement already satisfied: altair<6,>=4.0 in /usr/local/lib/python3.11/dist-packages (from streamlit) (5.5.0)\n",
            "Requirement already satisfied: blinker<2,>=1.5.0 in /usr/local/lib/python3.11/dist-packages (from streamlit) (1.9.0)\n",
            "Requirement already satisfied: cachetools<6,>=4.0 in /usr/local/lib/python3.11/dist-packages (from streamlit) (5.5.2)\n",
            "Requirement already satisfied: click<9,>=7.0 in /usr/local/lib/python3.11/dist-packages (from streamlit) (8.2.1)\n",
            "Requirement already satisfied: numpy<3,>=1.23 in /usr/local/lib/python3.11/dist-packages (from streamlit) (2.0.2)\n",
            "Requirement already satisfied: packaging<25,>=20 in /usr/local/lib/python3.11/dist-packages (from streamlit) (24.2)\n",
            "Requirement already satisfied: pandas<3,>=1.4.0 in /usr/local/lib/python3.11/dist-packages (from streamlit) (2.2.2)\n",
            "Requirement already satisfied: pillow<12,>=7.1.0 in /usr/local/lib/python3.11/dist-packages (from streamlit) (11.2.1)\n",
            "Requirement already satisfied: protobuf<7,>=3.20 in /usr/local/lib/python3.11/dist-packages (from streamlit) (5.29.4)\n",
            "Requirement already satisfied: pyarrow>=7.0 in /usr/local/lib/python3.11/dist-packages (from streamlit) (18.1.0)\n",
            "Requirement already satisfied: requests<3,>=2.27 in /usr/local/lib/python3.11/dist-packages (from streamlit) (2.32.3)\n",
            "Requirement already satisfied: tenacity<10,>=8.1.0 in /usr/local/lib/python3.11/dist-packages (from streamlit) (9.1.2)\n",
            "Requirement already satisfied: toml<2,>=0.10.1 in /usr/local/lib/python3.11/dist-packages (from streamlit) (0.10.2)\n",
            "Requirement already satisfied: typing-extensions<5,>=4.4.0 in /usr/local/lib/python3.11/dist-packages (from streamlit) (4.13.2)\n",
            "Requirement already satisfied: watchdog<7,>=2.1.5 in /usr/local/lib/python3.11/dist-packages (from streamlit) (6.0.0)\n",
            "Requirement already satisfied: gitpython!=3.1.19,<4,>=3.0.7 in /usr/local/lib/python3.11/dist-packages (from streamlit) (3.1.44)\n",
            "Requirement already satisfied: pydeck<1,>=0.8.0b4 in /usr/local/lib/python3.11/dist-packages (from streamlit) (0.9.1)\n",
            "Requirement already satisfied: tornado<7,>=6.0.3 in /usr/local/lib/python3.11/dist-packages (from streamlit) (6.4.2)\n",
            "Requirement already satisfied: jinja2 in /usr/local/lib/python3.11/dist-packages (from altair<6,>=4.0->streamlit) (3.1.6)\n",
            "Requirement already satisfied: jsonschema>=3.0 in /usr/local/lib/python3.11/dist-packages (from altair<6,>=4.0->streamlit) (4.23.0)\n",
            "Requirement already satisfied: narwhals>=1.14.2 in /usr/local/lib/python3.11/dist-packages (from altair<6,>=4.0->streamlit) (1.40.0)\n",
            "Requirement already satisfied: gitdb<5,>=4.0.1 in /usr/local/lib/python3.11/dist-packages (from gitpython!=3.1.19,<4,>=3.0.7->streamlit) (4.0.12)\n",
            "Requirement already satisfied: python-dateutil>=2.8.2 in /usr/local/lib/python3.11/dist-packages (from pandas<3,>=1.4.0->streamlit) (2.9.0.post0)\n",
            "Requirement already satisfied: pytz>=2020.1 in /usr/local/lib/python3.11/dist-packages (from pandas<3,>=1.4.0->streamlit) (2025.2)\n",
            "Requirement already satisfied: tzdata>=2022.7 in /usr/local/lib/python3.11/dist-packages (from pandas<3,>=1.4.0->streamlit) (2025.2)\n",
            "Requirement already satisfied: charset-normalizer<4,>=2 in /usr/local/lib/python3.11/dist-packages (from requests<3,>=2.27->streamlit) (3.4.2)\n",
            "Requirement already satisfied: idna<4,>=2.5 in /usr/local/lib/python3.11/dist-packages (from requests<3,>=2.27->streamlit) (3.10)\n",
            "Requirement already satisfied: urllib3<3,>=1.21.1 in /usr/local/lib/python3.11/dist-packages (from requests<3,>=2.27->streamlit) (2.4.0)\n",
            "Requirement already satisfied: certifi>=2017.4.17 in /usr/local/lib/python3.11/dist-packages (from requests<3,>=2.27->streamlit) (2025.4.26)\n",
            "Requirement already satisfied: smmap<6,>=3.0.1 in /usr/local/lib/python3.11/dist-packages (from gitdb<5,>=4.0.1->gitpython!=3.1.19,<4,>=3.0.7->streamlit) (5.0.2)\n",
            "Requirement already satisfied: MarkupSafe>=2.0 in /usr/local/lib/python3.11/dist-packages (from jinja2->altair<6,>=4.0->streamlit) (3.0.2)\n",
            "Requirement already satisfied: attrs>=22.2.0 in /usr/local/lib/python3.11/dist-packages (from jsonschema>=3.0->altair<6,>=4.0->streamlit) (25.3.0)\n",
            "Requirement already satisfied: jsonschema-specifications>=2023.03.6 in /usr/local/lib/python3.11/dist-packages (from jsonschema>=3.0->altair<6,>=4.0->streamlit) (2025.4.1)\n",
            "Requirement already satisfied: referencing>=0.28.4 in /usr/local/lib/python3.11/dist-packages (from jsonschema>=3.0->altair<6,>=4.0->streamlit) (0.36.2)\n",
            "Requirement already satisfied: rpds-py>=0.7.1 in /usr/local/lib/python3.11/dist-packages (from jsonschema>=3.0->altair<6,>=4.0->streamlit) (0.25.1)\n",
            "Requirement already satisfied: six>=1.5 in /usr/local/lib/python3.11/dist-packages (from python-dateutil>=2.8.2->pandas<3,>=1.4.0->streamlit) (1.17.0)\n"
          ]
        }
      ]
    },
    {
      "cell_type": "code",
      "source": [
        "import pandas as pd\n",
        "import numpy as np\n",
        "import matplotlib.pyplot as plt\n",
        "import random\n",
        "import seaborn as sns\n",
        "import streamlit as st\n",
        "from sklearn.preprocessing import StandardScaler"
      ],
      "metadata": {
        "id": "VD2qu8EzrW10"
      },
      "execution_count": null,
      "outputs": []
    },
    {
      "cell_type": "code",
      "source": [
        "# Load the dataset\n",
        "file_path = \"/content/drive/MyDrive/Dataset/meal.csv\"\n",
        "meals_df = pd.read_csv(file_path)"
      ],
      "metadata": {
        "id": "ctUx931lB9DA"
      },
      "execution_count": null,
      "outputs": []
    },
    {
      "cell_type": "code",
      "source": [
        "# Explicitly remove detailed nutrient columns (ignore if not found)\n",
        "meals_df.drop(columns=[\n",
        "    'Calcium_mg', 'Iron_mg', 'Potassium_mg', 'VitC_mg', 'VitA_ug', 'VitB12_ug', 'Magnesium_mg'\n",
        "], inplace=True, errors='ignore')\n",
        "\n",
        "# Select core nutrient columns only\n",
        "num_cols = [\"Calories\", \"Protein_g\", \"Carbohydrate_g\", \"Fat_g\", \"Fiber_g\"]\n",
        "meals_df[num_cols] = meals_df[num_cols].apply(pd.to_numeric, errors=\"coerce\")\n",
        "\n",
        "# Drop rows with missing values in selected columns\n",
        "meals_df.dropna(subset=num_cols, inplace=True)\n",
        "meals_df.reset_index(drop=True, inplace=True)"
      ],
      "metadata": {
        "id": "SVJt-xFYB7yI"
      },
      "execution_count": null,
      "outputs": []
    },
    {
      "cell_type": "markdown",
      "source": [
        "###**Correlation HeatMap**"
      ],
      "metadata": {
        "id": "cFO93lzgDAFD"
      }
    },
    {
      "cell_type": "code",
      "source": [
        "# Standard scale the selected columns\n",
        "scaler = StandardScaler()\n",
        "scaled_data = pd.DataFrame(scaler.fit_transform(meals_df[num_cols]), columns=num_cols)\n",
        "\n",
        "# Correlation heatmap\n",
        "plt.figure(figsize=(8, 6))\n",
        "sns.heatmap(scaled_data.corr(), annot=True, cmap=\"coolwarm\", fmt=\".2f\")\n",
        "plt.title(\"Correlation Heatmap of Core Nutritional Attributes\")\n",
        "plt.show()"
      ],
      "metadata": {
        "id": "b-Leig4p8prF",
        "colab": {
          "base_uri": "https://localhost:8080/",
          "height": 538
        },
        "outputId": "2a708612-269d-4467-e721-a942a08eb551"
      },
      "execution_count": null,
      "outputs": [
        {
          "output_type": "display_data",
          "data": {
            "text/plain": [
              "<Figure size 800x600 with 2 Axes>"
            ],
            "image/png": "[encoded data removed]"
          },
          "metadata": {}
        }
      ]
    },
    {
      "cell_type": "markdown",
      "source": [
        "###**Boxplot**"
      ],
      "metadata": {
        "id": "iAYoeq-_DJCo"
      }
    },
    {
      "cell_type": "code",
      "source": [
        "# Boxplots to visualize outliers\n",
        "plt.figure(figsize=(15, 5))\n",
        "for i, col in enumerate(num_cols, 1):\n",
        "    plt.subplot(1, len(num_cols), i)\n",
        "    sns.boxplot(y=scaled_data[col])\n",
        "    plt.title(f\"Outliers in {col}\")\n",
        "plt.tight_layout()\n",
        "plt.show()"
      ],
      "metadata": {
        "colab": {
          "base_uri": "https://localhost:8080/",
          "height": 223
        },
        "id": "dIw3MZgsBwNY",
        "outputId": "f745ab76-2fca-4d0e-f87f-c1b9c34d454a"
      },
      "execution_count": null,
      "outputs": [
        {
          "output_type": "display_data",
          "data": {
            "text/plain": [
              "<Figure size 1500x500 with 5 Axes>"
            ],
            "image/png": "[encoded data removed]"
          },
          "metadata": {}
        }
      ]
    },
    {
      "cell_type": "markdown",
      "source": [
        "##**Task 1 : FIS Creation**##"
      ],
      "metadata": {
        "id": "qLf4QbpW9AiC"
      }
    },
    {
      "cell_type": "markdown",
      "source": [
        "###**Fuzzy Logic Function**"
      ],
      "metadata": {
        "id": "DYiSWRuxMTmb"
      }
    },
    {
      "cell_type": "code",
      "source": [
        "%%writefile app_final_3.py\n",
        "\n",
        "# ----------------------------\n",
        "# Fuzzy Logic Functions\n",
        "# ----------------------------\n",
        "\n",
        "## a) Membership Functions\n",
        "\n",
        "def triangular(x, a, b, c):\n",
        "    \"\"\"Triangular membership function.\"\"\"\n",
        "    return np.maximum(np.minimum((x - a) / (b - a), (c - x) / (c - b)), 0)\n",
        "\n",
        "def age_membership(age):\n",
        "    return {\n",
        "        \"Young\": triangular(age, 0, 18, 30),\n",
        "        \"Adult\": triangular(age, 25, 40, 60),\n",
        "        \"Elder\": triangular(age, 55, 70, 100)\n",
        "    }\n",
        "\n",
        "def bmi_membership(bmi):\n",
        "    return {\n",
        "        \"Underweight\": triangular(bmi, 0, 16, 18.5),\n",
        "        \"Normal\": triangular(bmi, 18, 22, 25),\n",
        "        \"Overweight\": triangular(bmi, 23, 27, 30),\n",
        "        \"Obese\": triangular(bmi, 28, 35, 50)\n",
        "    }\n",
        "\n",
        "def activity_membership(activity_level):\n",
        "    return {\n",
        "        \"Low\": triangular(activity_level, 0, 2, 4),\n",
        "        \"Moderate\": triangular(activity_level, 3, 5, 7),\n",
        "        \"High\": triangular(activity_level, 6, 8, 10)\n",
        "    }\n",
        "\n",
        "## These membership functions determine the degree to which an input (age, BMI, activity)\n",
        "## belongs to each fuzzy category.\n",
        "\n",
        "def fuzzy_health_assessment(age, bmi, activity, diabetes=False, hypertension=False):\n",
        "    \"\"\"\n",
        "    Compute a fuzzy risk score using weighted averages.\n",
        "    For each factor, we assign:\n",
        "      - Age: Young=0, Adult=40, Elder=80\n",
        "      - BMI: Underweight=20, Normal=40, Overweight=60, Obese=80\n",
        "      - Activity: Low=80, Moderate=50, High=20\n",
        "    The final risk is the average, adjusted for diabetes (+5) and hypertension (+3).\n",
        "    \"\"\"\n",
        "    age_m = age_membership(age)\n",
        "    bmi_m = bmi_membership(bmi)\n",
        "    act_m = activity_membership(activity)\n",
        "\n",
        "    age_risk = {\"Young\": 0, \"Adult\": 40, \"Elder\": 80}\n",
        "    bmi_risk = {\"Underweight\": 20, \"Normal\": 40, \"Overweight\": 60, \"Obese\": 80}\n",
        "    act_risk = {\"Low\": 80, \"Moderate\": 50, \"High\": 20}\n",
        "\n",
        "    age_risk_val = sum(age_m[cat] * age_risk[cat] for cat in age_m) / (sum(age_m.values()) + 1e-6)\n",
        "    bmi_risk_val = sum(bmi_m[cat] * bmi_risk[cat] for cat in bmi_m) / (sum(bmi_m.values()) + 1e-6)\n",
        "    act_risk_val = sum(act_m[cat] * act_risk[cat] for cat in act_m) / (sum(act_m.values()) + 1e-6)\n",
        "\n",
        "    risk_score = (age_risk_val + bmi_risk_val + act_risk_val) / 3\n",
        "    if diabetes:\n",
        "        risk_score += 5\n",
        "    if hypertension:\n",
        "        risk_score += 3\n",
        "    risk_score = np.clip(risk_score, 0, 100)\n",
        "\n",
        "    if risk_score < 35:\n",
        "        risk_category = \"Low\"\n",
        "    elif risk_score < 60:\n",
        "        risk_category = \"Medium\"\n",
        "    else:\n",
        "        risk_category = \"High\"\n",
        "\n",
        "    explanation = {\n",
        "        \"Age Risk Value\": age_risk_val,\n",
        "        \"BMI Risk Value\": bmi_risk_val,\n",
        "        \"Activity Risk Value\": act_risk_val,\n",
        "        \"Final Risk Score\": risk_score\n",
        "    }\n",
        "    return risk_score, risk_category, explanation\n",
        "\n",
        "def get_recommendations(age, risk_category):\n",
        "    \"\"\"\n",
        "    Provide personalized nutrient recommendations based on risk and age.\n",
        "    \"\"\"\n",
        "    if risk_category == \"High\":\n",
        "        base_cal = 1800\n",
        "        protein_rec = \"High\"\n",
        "    elif risk_category == \"Medium\":\n",
        "        base_cal = 2100\n",
        "        protein_rec = \"Moderate\"\n",
        "    else:\n",
        "        base_cal = 2500\n",
        "        protein_rec = \"Moderate\"\n",
        "    if age > 60:\n",
        "        base_cal -= 200\n",
        "    return {\n",
        "        \"Recommended Calories\": base_cal,\n",
        "        \"Protein\": protein_rec,\n",
        "        \"Fat\": \"Low\" if risk_category == \"High\" else \"Moderate\",\n",
        "        \"Carbs\": \"Moderate\" if risk_category != \"Low\" else \"High\"\n",
        "    }\n",
        "\n",
        "\n",
        "# ----------------------------\n",
        "# Genetic Algorithm (GA) Functions\n",
        "# ----------------------------\n",
        "POPULATION_SIZE = 20\n",
        "NUM_DAYS = 7\n",
        "MEALS_PER_DAY = 3\n",
        "CHROMOSOME_LENGTH = NUM_DAYS * MEALS_PER_DAY\n",
        "GENERATIONS = 50\n",
        "TARGET_CALORIES = 2100\n",
        "\n",
        "w_macro = 0.5\n",
        "w_variety = 0.3\n",
        "w_allergy = 0.2\n",
        "\n",
        "def fitness_function(chromosome, vegetarian, no_dairy, high_protein):\n",
        "    plan = meals_df[meals_df[\"Meal_ID\"].isin(chromosome)]\n",
        "    total_calories = plan[\"Calories\"].sum()\n",
        "    target_weekly = TARGET_CALORIES * 7\n",
        "    macro_diff_score = abs(target_weekly - total_calories)\n",
        "    variety_score = CHROMOSOME_LENGTH - len(set(chromosome))\n",
        "\n",
        "    penalty = 0\n",
        "    if vegetarian:\n",
        "        non_veg = plan[plan[\"Vegetarian\"]==\"No\"].shape[0]\n",
        "        penalty += non_veg * 50\n",
        "    if no_dairy:\n",
        "        dairy = plan[plan[\"Contains_DAIRY\"]==\"Yes\"].shape[0]\n",
        "        penalty += dairy * 50\n",
        "    protein_total = plan[\"Protein_g\"].sum()\n",
        "    avg_protein = protein_total / CHROMOSOME_LENGTH\n",
        "    if high_protein:\n",
        "        if avg_protein < 10:\n",
        "            penalty += (10 - avg_protein) * 100\n",
        "        else:\n",
        "            penalty -= 50\n",
        "    return w_macro * macro_diff_score + w_variety * variety_score + w_allergy * penalty\n",
        "\n",
        "def create_chromosome():\n",
        "    return [random.choice(meal_ids) for _ in range(CHROMOSOME_LENGTH)]\n",
        "\n",
        "def tournament_selection(population, k=3, vegetarian=False, no_dairy=False, high_protein=False):\n",
        "    selected = random.sample(population, k)\n",
        "    selected.sort(key=lambda chromo: fitness_function(chromo, vegetarian, no_dairy, high_protein))\n",
        "    return selected[0]\n",
        "\n",
        "def crossover(parent1, parent2):\n",
        "    day = random.randint(0, NUM_DAYS - 1)\n",
        "    start = day * MEALS_PER_DAY\n",
        "    end = start + MEALS_PER_DAY\n",
        "    child1 = parent1.copy()\n",
        "    child2 = parent2.copy()\n",
        "    child1[start:end], child2[start:end] = parent2[start:end], parent1[start:end]\n",
        "    return child1, child2\n",
        "\n",
        "def mutate(chromosome, mutation_rate=0.15):\n",
        "    new_chromosome = chromosome.copy()\n",
        "    for i in range(CHROMOSOME_LENGTH):\n",
        "        if random.random() < mutation_rate:\n",
        "            new_chromosome[i] = random.choice(meal_ids)\n",
        "    return new_chromosome\n",
        "\n",
        "# Use session state to store GA results so that changing the selectbox doesn't rerun the GA.\n",
        "if \"ga_result\" not in st.session_state:\n",
        "    st.session_state.ga_result = None\n",
        "    st.session_state.fitness_history = None\n",
        "\n",
        "def run_ga(vegetarian, no_dairy, high_protein):\n",
        "    population = [create_chromosome() for _ in range(POPULATION_SIZE)]\n",
        "    best_chromo = None\n",
        "    best_fit = float('inf')\n",
        "    fitness_history = []\n",
        "    for generation in range(GENERATIONS):\n",
        "        new_population = []\n",
        "        population.sort(key=lambda chromo: fitness_function(chromo, vegetarian, no_dairy, high_protein))\n",
        "        new_population.extend(population[:2])\n",
        "        while len(new_population) < POPULATION_SIZE:\n",
        "            parent1 = tournament_selection(population, vegetarian=vegetarian, no_dairy=no_dairy, high_protein=high_protein)\n",
        "            parent2 = tournament_selection(population, vegetarian=vegetarian, no_dairy=no_dairy, high_protein=high_protein)\n",
        "            child1, child2 = crossover(parent1, parent2)\n",
        "            child1 = mutate(child1, mutation_rate=0.15)\n",
        "            child2 = mutate(child2, mutation_rate=0.15)\n",
        "            new_population.extend([child1, child2])\n",
        "        population = new_population[:POPULATION_SIZE]\n",
        "        current_best = min(population, key=lambda chromo: fitness_function(chromo, vegetarian, no_dairy, high_protein))\n",
        "        current_fit = fitness_function(current_best, vegetarian, no_dairy, high_protein)\n",
        "        if current_fit < best_fit:\n",
        "            best_fit = current_fit\n",
        "            best_chromo = current_best\n",
        "        fitness_history.append(best_fit)\n",
        "    return best_chromo, fitness_history\n",
        "\n",
        "\n",
        "# ----------------------------\n",
        "# Streamlit App Layout with Tabs\n",
        "# ----------------------------\n",
        "st.set_page_config(page_title=\"Fuzzy-GA Diet Planner\", layout=\"wide\")\n",
        "st.title(\"Fuzzy-GA Powered Diet Planner\")\n",
        "\n",
        "with st.sidebar:\n",
        "    st.title(\"Fuzzy-GA Diet Planner\")\n",
        "    st.markdown(\n",
        "        \"\"\"\n",
        "        **About:**\n",
        "        This app uses fuzzy logic to assess your health risk based on your Age, BMI, and Activity Level.\n",
        "        It then provides personalized nutrient recommendations and uses a genetic algorithm (GA)\n",
        "        to generate an optimized weekly meal plan tailored to your dietary preferences.\n",
        "        \"\"\"\n",
        "    )\n",
        "\n",
        "# Tabs for Navigation\n",
        "tabs = st.tabs([\"Overview\", \"Health Assessment\", \"Meal Plan Optimization\", \"Membership Functions\"])\n",
        "\n",
        "# ----------------------------\n",
        "# Tab 1: Overview\n",
        "# ----------------------------\n",
        "with tabs[0]:\n",
        "    st.header(\"Overview\")\n",
        "    st.markdown(\n",
        "        \"\"\"\n",
        "        **Fuzzy-GA Powered Diet Planner** integrates:\n",
        "        - A **Fuzzy Logic Engine** to evaluate your health risk and provide nutrient recommendations.\n",
        "        - A **Genetic Algorithm** to optimize a weekly meal plan that fits your nutritional needs and dietary preferences.\n",
        "\n",
        "        Use the tabs to explore:\n",
        "        - Your health assessment based on your inputs.\n",
        "        - The optimized meal plan and detailed nutrient breakdowns.\n",
        "        - Interactive membership function plots that explain the fuzzy logic.\n",
        "        \"\"\"\n",
        "    )\n",
        "\n",
        "# ----------------------------\n",
        "# Tab 2: Health Assessment\n",
        "# ----------------------------\n",
        "with tabs[1]:\n",
        "    st.header(\"Health Assessment\")\n",
        "    col1, col2 = st.columns(2)\n",
        "    with col1:\n",
        "        st.subheader(\"Enter Your Health Details\")\n",
        "        user_age = st.number_input(\"Age\", min_value=0, max_value=120, value=30, key=\"age\")\n",
        "        user_bmi = st.number_input(\"BMI\", min_value=10.0, max_value=50.0, value=22.0, step=0.1, key=\"bmi\")\n",
        "        user_activity = st.slider(\"Activity Level (0 low - 10 high)\", 0, 10, 5, key=\"activity\")\n",
        "        user_diabetes = st.checkbox(\"Diabetes\", value=False, key=\"diabetes\")\n",
        "        user_hypertension = st.checkbox(\"Hypertension\", value=False, key=\"hypertension\")\n",
        "    with col2:\n",
        "        risk, risk_cat, fuzzy_expl = fuzzy_health_assessment(user_age, user_bmi, user_activity, user_diabetes, user_hypertension)\n",
        "        recs = get_recommendations(user_age, risk_cat)\n",
        "        st.subheader(\"Your Health Summary\")\n",
        "        st.markdown(f\"**Risk Score:** {risk:.2f} ({risk_cat} Risk)\")\n",
        "        st.markdown(\"**Nutrient Recommendations:**\")\n",
        "        st.write(recs)\n",
        "    st.markdown(\"---\")\n",
        "    st.markdown(\"**Fuzzy Logic Explanation:**\")\n",
        "    st.json(fuzzy_expl)\n",
        "\n",
        "# ----------------------------\n",
        "# Tab 3: Meal Plan Optimization\n",
        "# ----------------------------\n",
        "with tabs[2]:\n",
        "    st.header(\"Meal Plan Optimization\")\n",
        "    st.markdown(\"Click the button below to generate an optimized weekly meal plan based on your dietary preferences.\")\n",
        "    dietary_veg = st.checkbox(\"Vegetarian\", value=False, key=\"veg\")\n",
        "    dietary_no_dairy = st.checkbox(\"No Dairy\", value=False, key=\"no_dairy\")\n",
        "    dietary_high_protein = st.checkbox(\"High Protein\", value=False, key=\"high_protein\")\n",
        "\n",
        "    # Check if GA result is stored in session_state; if not, run GA when button clicked.\n",
        "    if st.button(\"Generate Meal Plan\"):\n",
        "        with st.spinner(\"Optimizing your meal plan...\"):\n",
        "            best_plan, fitness_history = run_ga(dietary_veg, dietary_no_dairy, dietary_high_protein)\n",
        "            st.session_state.ga_result = best_plan\n",
        "            st.session_state.fitness_history = fitness_history\n",
        "        st.success(\"Meal plan generated!\")\n",
        "\n",
        "    if st.session_state.ga_result is not None:\n",
        "        # GA Evolution Chart\n",
        "        st.subheader(\"GA Evolution\")\n",
        "        fig_ga, ax_ga = plt.subplots(figsize=(8, 4))\n",
        "        ax_ga.plot(st.session_state.fitness_history, marker='o', linestyle='-')\n",
        "        ax_ga.set_xlabel(\"Generation\")\n",
        "        ax_ga.set_ylabel(\"Best Fitness\")\n",
        "        ax_ga.set_title(\"GA Evolution: Fitness over Generations\")\n",
        "        st.pyplot(fig_ga)\n",
        "\n",
        "        # Display Optimized Weekly Meal Plan\n",
        "        plan_df = pd.DataFrame(np.array(st.session_state.ga_result).reshape(NUM_DAYS, MEALS_PER_DAY),\n",
        "                               columns=[\"Meal 1\", \"Meal 2\", \"Meal 3\"])\n",
        "        st.subheader(\"Optimized Weekly Meal Plan\")\n",
        "        st.dataframe(plan_df)\n",
        "\n",
        "        # Daily Nutrient Totals\n",
        "        daily_totals = []\n",
        "        for day in range(NUM_DAYS):\n",
        "            day_ids = st.session_state.ga_result[day*MEALS_PER_DAY:(day+1)*MEALS_PER_DAY]\n",
        "            day_plan = meals_df[meals_df[\"Meal_ID\"].isin(day_ids)]\n",
        "            totals = {\n",
        "                \"Calories\": day_plan[\"Calories\"].sum(),\n",
        "                \"Protein\": day_plan[\"Protein_g\"].sum(),\n",
        "                \"Carbohydrates\": day_plan[\"Carbohydrate_g\"].sum(),\n",
        "                \"Fat\": day_plan[\"Fat_g\"].sum(),\n",
        "                \"Fiber\": day_plan[\"Fiber_g\"].sum()\n",
        "            }\n",
        "            daily_totals.append(totals)\n",
        "        daily_df = pd.DataFrame(daily_totals)\n",
        "        st.subheader(\"Daily Nutrient Totals\")\n",
        "        st.dataframe(daily_df)\n",
        "\n",
        "        # Interactive Meal Nutrient Breakdown\n",
        "        st.subheader(\"View Meal Nutrient Breakdown\")\n",
        "        # Use a selectbox with a key to preserve state\n",
        "        meal_choice = st.selectbox(\"Select a Meal ID from the Optimized Plan\", sorted(set(st.session_state.ga_result)), key=\"meal_select\")\n",
        "        selected_meal = meals_df[meals_df[\"Meal_ID\"]==meal_choice].iloc[0]\n",
        "        fig_meal, ax_meal = plt.subplots(figsize=(8, 4))\n",
        "        meal_nutrients = [\"Calories\", \"Protein_g\", \"Carbohydrate_g\", \"Fat_g\", \"Fiber_g\"]\n",
        "        nutrient_values = [selected_meal[n] for n in meal_nutrients]\n",
        "        ax_meal.bar(meal_nutrients, nutrient_values, color=\"skyblue\")\n",
        "        ax_meal.set_ylabel(\"Value\")\n",
        "        ax_meal.set_title(f\"Nutrient Breakdown: {selected_meal['Meal_Name']}\")\n",
        "        st.pyplot(fig_meal)\n",
        "    else:\n",
        "        st.info(\"Click 'Generate Meal Plan' to optimize your weekly meal plan.\")\n",
        "\n",
        "# ----------------------------\n",
        "# Tab 4: Membership Functions\n",
        "# ----------------------------\n",
        "with tabs[3]:\n",
        "    st.header(\"Membership Function Plots\")\n",
        "    st.markdown(\"These plots illustrate the membership functions used for Age, BMI, and Activity.\")\n",
        "\n",
        "    st.subheader(\"Age Membership Functions\")\n",
        "    x_age = np.linspace(0, 100, 500)\n",
        "    fig_age, ax_age = plt.subplots(figsize=(8, 4))\n",
        "    ax_age.plot(x_age, [age_membership(x)[\"Young\"] for x in x_age], label=\"Young\")\n",
        "    ax_age.plot(x_age, [age_membership(x)[\"Adult\"] for x in x_age], label=\"Adult\")\n",
        "    ax_age.plot(x_age, [age_membership(x)[\"Elder\"] for x in x_age], label=\"Elder\")\n",
        "    ax_age.set_xlabel(\"Age\")\n",
        "    ax_age.set_ylabel(\"Membership Degree\")\n",
        "    ax_age.set_title(\"Age Membership Functions\")\n",
        "    ax_age.legend()\n",
        "    st.pyplot(fig_age)\n",
        "\n",
        "    st.subheader(\"BMI Membership Functions\")\n",
        "    x_bmi = np.linspace(0, 50, 500)\n",
        "    fig_bmi, ax_bmi = plt.subplots(figsize=(8, 4))\n",
        "    ax_bmi.plot(x_bmi, [bmi_membership(x)[\"Underweight\"] for x in x_bmi], label=\"Underweight\")\n",
        "    ax_bmi.plot(x_bmi, [bmi_membership(x)[\"Normal\"] for x in x_bmi], label=\"Normal\")\n",
        "    ax_bmi.plot(x_bmi, [bmi_membership(x)[\"Overweight\"] for x in x_bmi], label=\"Overweight\")\n",
        "    ax_bmi.plot(x_bmi, [bmi_membership(x)[\"Obese\"] for x in x_bmi], label=\"Obese\")\n",
        "    ax_bmi.set_xlabel(\"BMI\")\n",
        "    ax_bmi.set_ylabel(\"Membership Degree\")\n",
        "    ax_bmi.set_title(\"BMI Membership Functions\")\n",
        "    ax_bmi.legend()\n",
        "    st.pyplot(fig_bmi)\n",
        "\n",
        "    st.subheader(\"Activity Membership Functions\")\n",
        "    x_act = np.linspace(0, 10, 500)\n",
        "    fig_act, ax_act = plt.subplots(figsize=(8, 4))\n",
        "    ax_act.plot(x_act, [activity_membership(x)[\"Low\"] for x in x_act], label=\"Low\")\n",
        "    ax_act.plot(x_act, [activity_membership(x)[\"Moderate\"] for x in x_act], label=\"Moderate\")\n",
        "    ax_act.plot(x_act, [activity_membership(x)[\"High\"] for x in x_act], label=\"High\")\n",
        "    ax_act.set_xlabel(\"Activity Level\")\n",
        "    ax_act.set_ylabel(\"Membership Degree\")\n",
        "    ax_act.set_title(\"Activity Membership Functions\")\n",
        "    ax_act.legend()\n",
        "    st.pyplot(fig_act)\n",
        "\n"
      ],
      "metadata": {
        "id": "EWg7ChLU45CL",
        "colab": {
          "base_uri": "https://localhost:8080/"
        },
        "outputId": "82998d5a-b577-4037-981e-3db0a226ce02"
      },
      "execution_count": null,
      "outputs": [
        {
          "output_type": "stream",
          "name": "stdout",
          "text": [
            "Overwriting app_final_3.py\n"
          ]
        }
      ]
    },
    {
      "cell_type": "markdown",
      "source": [
        "## **Task 2 : Genetic Algorithm (GA)**"
      ],
      "metadata": {
        "id": "drj7UqVpMd_m"
      }
    },
    {
      "cell_type": "markdown",
      "source": [
        "##**Task 3 : Streamlit Tabs**"
      ],
      "metadata": {
        "id": "g7oclhnLM8Q4"
      }
    },
    {
      "cell_type": "code",
      "source": [
        "!ngrok config add-authtoken 2rt9tfmKk94QQoUuQGgFPXniz5q_5YfN81GbK6CapmCAh2ztY"
      ],
      "metadata": {
        "id": "h7xt5OMdi13g",
        "colab": {
          "base_uri": "https://localhost:8080/"
        },
        "outputId": "699e0a00-5ea1-4f5b-ff5d-1664e1b0b7e2"
      },
      "execution_count": null,
      "outputs": [
        {
          "output_type": "stream",
          "name": "stdout",
          "text": [
            "/bin/bash: line 1: ngrok: command not found\n"
          ]
        }
      ]
    },
    {
      "cell_type": "code",
      "source": [
        "!pip install pyngrok"
      ],
      "metadata": {
        "id": "eHHP1svkGdXe",
        "outputId": "f7080b4b-c1cd-449f-b6f0-d1116ca540e6",
        "colab": {
          "base_uri": "https://localhost:8080/"
        }
      },
      "execution_count": null,
      "outputs": [
        {
          "output_type": "stream",
          "name": "stdout",
          "text": [
            "Collecting pyngrok\n",
            "  Downloading pyngrok-7.2.9-py3-none-any.whl.metadata (9.3 kB)\n",
            "Requirement already satisfied: PyYAML>=5.1 in /usr/local/lib/python3.11/dist-packages (from pyngrok) (6.0.2)\n",
            "Downloading pyngrok-7.2.9-py3-none-any.whl (25 kB)\n",
            "Installing collected packages: pyngrok\n",
            "Successfully installed pyngrok-7.2.9\n"
          ]
        }
      ]
    },
    {
      "source": [
        "from pyngrok import ngrok\n",
        "import os # Import os module for process killing\n",
        "\n",
        "# Ensure any previous ngrok processes are terminated\n",
        "# Use os.system for shell command execution in Colab\n",
        "os.system(\"pkill ngrok\")\n",
        "ngrok.kill()\n",
        "\n",
        "# Use the correct Streamlit app file name\n",
        "streamlit_app_file = \"app_final_3.py\"\n",
        "\n",
        "# Connect to ngrok\n",
        "try:\n",
        "    public_url = ngrok.connect(port=8501)\n",
        "    print(f\"Streamlit app is live at: {public_url}\")\n",
        "\n",
        "    # Run the correct Streamlit app in the background\n",
        "    os.system(f\"streamlit run {streamlit_app_file} &>/content/logs.txt &\")\n",
        "\n",
        "except Exception as e:\n",
        "    print(f\"An error occurred while trying to start ngrok or Streamlit: {e}\")\n",
        "    print(\"Please check the logs in /content/logs.txt for more details.\")\n",
        "    print(\"If the error persists, try restarting the Colab runtime.\")"
      ],
      "cell_type": "code",
      "metadata": {
        "id": "wtxXdUuRmZd8",
        "colab": {
          "base_uri": "https://localhost:8080/"
        },
        "outputId": "a72ac6a1-29cb-4bbd-cb70-82ac396b916f"
      },
      "execution_count": null,
      "outputs": [
        {
          "output_type": "stream",
          "name": "stdout",
          "text": []
        },
        {
          "output_type": "stream",
          "name": "stderr",
          "text": [
            "ERROR:pyngrok.process.ngrok:t=2025-05-29T03:33:56+0000 lvl=eror msg=\"failed to reconnect session\" obj=tunnels.session err=\"authentication failed: Usage of ngrok requires a verified account and authtoken.\\n\\nSign up for an account: https://dashboard.ngrok.com/signup\\nInstall your authtoken: https://dashboard.ngrok.com/get-started/your-authtoken\\r\\n\\r\\nERR_NGROK_4018\\r\\n\"\n",
            "ERROR:pyngrok.process.ngrok:t=2025-05-29T03:33:56+0000 lvl=eror msg=\"session closing\" obj=tunnels.session err=\"authentication failed: Usage of ngrok requires a verified account and authtoken.\\n\\nSign up for an account: https://dashboard.ngrok.com/signup\\nInstall your authtoken: https://dashboard.ngrok.com/get-started/your-authtoken\\r\\n\\r\\nERR_NGROK_4018\\r\\n\"\n",
            "ERROR:pyngrok.process.ngrok:t=2025-05-29T03:33:56+0000 lvl=eror msg=\"terminating with error\" obj=app err=\"authentication failed: Usage of ngrok requires a verified account and authtoken.\\n\\nSign up for an account: https://dashboard.ngrok.com/signup\\nInstall your authtoken: https://dashboard.ngrok.com/get-started/your-authtoken\\r\\n\\r\\nERR_NGROK_4018\\r\\n\"\n"
          ]
        },
        {
          "output_type": "stream",
          "name": "stdout",
          "text": [
            "An error occurred while trying to start ngrok or Streamlit: The ngrok process errored on start: authentication failed: Usage of ngrok requires a verified account and authtoken.\\n\\nSign up for an account: https://dashboard.ngrok.com/signup\\nInstall your authtoken: https://dashboard.ngrok.com/get-started/your-authtoken\\r\\n\\r\\nERR_NGROK_4018\\r\\n.\n",
            "Please check the logs in /content/logs.txt for more details.\n",
            "If the error persists, try restarting the Colab runtime.\n"
          ]
        }
      ]
    }
  ]
}